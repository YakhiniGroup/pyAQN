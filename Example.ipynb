{
 "cells": [
  {
   "cell_type": "code",
   "execution_count": 4,
   "metadata": {},
   "outputs": [
    {
     "data": {
      "text/plain": [
       "(array([[0.63596859, 0.12583476, 0.76466173, 0.30216966, 0.363238  ],\n",
       "        [0.76466173, 0.18116841, 0.50202589, 0.18116841, 0.        ],\n",
       "        [0.12583476, 0.76466173, 0.63596859, 0.71970937, 0.18116841],\n",
       "        [0.18116841, 0.87689322, 0.363238  , 0.87689322, 0.71970937],\n",
       "        [0.71970937, 0.50202589, 0.71970937, 0.12583476, 0.50202589],\n",
       "        [0.        , 0.363238  , 0.87689322, 0.76466173, 0.76466173],\n",
       "        [0.30216966, 0.63596859, 0.30216966, 0.        , 0.87689322],\n",
       "        [0.363238  , 0.30216966, 0.12583476, 0.363238  , 0.30216966],\n",
       "        [0.87689322, 0.        , 0.18116841, 0.63596859, 0.63596859],\n",
       "        [0.50202589, 0.71970937, 0.        , 0.50202589, 0.12583476]]),\n",
       " array([[ 56,   1,  78,  23,  34],\n",
       "        [ 78,  12,  45,  12, 100],\n",
       "        [  1,  78,  56,  67,  12],\n",
       "        [ 12,  89,  34,  89,  67],\n",
       "        [ 67,  45,  67,   1,  45],\n",
       "        [100,  34,  89,  78,  78],\n",
       "        [ 23,  56,  23, 100,  89],\n",
       "        [ 34,  23,   1,  34,  23],\n",
       "        [ 89, 100,  12,  56,  56],\n",
       "        [ 45,  67, 100,  45,   1]], dtype=int64))"
      ]
     },
     "execution_count": 4,
     "metadata": {},
     "output_type": "execute_result"
    }
   ],
   "source": [
    "import numpy as np\n",
    "from pyAQuN.pyAQuN import pyAQuN\n",
    "M = np.random.rand(10,5)\n",
    "qM, binassignments = pyAQuN.normalize(M)\n",
    "qM, binassignments"
   ]
  },
  {
   "cell_type": "code",
   "execution_count": 24,
   "metadata": {},
   "outputs": [],
   "source": [
    "from pyAQuN.pyAQuN import pyAQuN\n",
    "import numpy as np\n",
    "\n",
    "class pyAQuN:\n",
    "    @staticmethod\n",
    "    def normalize(M):\n",
    "        M = np.random.rand(10,5)\n",
    "        nans = np.isnan(M)\n",
    "        jitteredM = M + np.random.rand(M.shape[0], M.shape[1]) * 0.1\n",
    "        prctiles =  np.nanpercentile(jitteredM, range(0,100), axis=0)\n",
    "        binassignments = np.asarray([np.digitize(x, y) for x, y in zip(jitteredM.transpose(), prctiles.transpose())]).transpose()\n",
    "        qM = np.zeros(M.shape)\n",
    "        for p in range(0, 100):\n",
    "            inP = binassignments==p\n",
    "            qM[inP] = np.nanmedian(jitteredM[inP])\n",
    "        qM[nans] = np.nan\n",
    "\n"
   ]
  },
  {
   "cell_type": "code",
   "execution_count": 63,
   "metadata": {},
   "outputs": [
    {
     "data": {
      "text/plain": [
       "array([[0.54890299, 0.35713071, 0.15437903, 0.07748168, 0.25341377],\n",
       "       [0.        , 0.20217964, 0.55702106, 0.        , 0.35713071],\n",
       "       [0.68560131, 0.07748168, 0.68560131, 0.15437903, 0.55702106],\n",
       "       [0.07748168, 0.15437903, 0.25341377, 0.83498419, 0.07748168],\n",
       "       [0.15437903, 0.25341377, 0.20217964, 0.54890299, 0.        ],\n",
       "       [0.20217964, 0.55702106, 0.54890299, 0.20217964, 0.83498419],\n",
       "       [0.83498419, 0.68560131, 0.        , 0.25341377, 0.68560131],\n",
       "       [0.25341377, 0.54890299, 0.07748168, 0.35713071, 0.20217964],\n",
       "       [0.35713071, 0.83498419, 0.83498419, 0.68560131, 0.15437903],\n",
       "       [0.55702106, 0.        , 0.35713071, 0.55702106, 0.54890299]])"
      ]
     },
     "execution_count": 63,
     "metadata": {},
     "output_type": "execute_result"
    }
   ],
   "source": [
    "M = np.random.rand(10,5)\n",
    "nans = np.isnan(M)\n",
    "jitteredM = M + np.random.rand(M.shape[0], M.shape[1]) * 0.1\n",
    "prctiles =  np.nanpercentile(jitteredM, range(0,100), axis=0)\n",
    "binassignments = np.asarray([np.digitize(x, y) for x, y in zip(jitteredM.transpose(), prctiles.transpose())]).transpose()\n",
    "qM = np.zeros(M.shape)\n",
    "for p in range(0, 100):\n",
    "    inP = binassignments==p\n",
    "    qM[inP] = np.nanmedian(jitteredM[inP])\n",
    "qM[nans] = np.nan\n"
   ]
  },
  {
   "cell_type": "code",
   "execution_count": 60,
   "metadata": {},
   "outputs": [
    {
     "data": {
      "text/plain": [
       "0.5"
      ]
     },
     "execution_count": 60,
     "metadata": {},
     "output_type": "execute_result"
    }
   ],
   "source": [
    "np.nanmedian([0.1, 0.5, np.nan, 5])"
   ]
  },
  {
   "cell_type": "code",
   "execution_count": 49,
   "metadata": {},
   "outputs": [
    {
     "ename": "SyntaxError",
     "evalue": "can't assign to function call (<ipython-input-49-3dd3aa76ecf2>, line 2)",
     "traceback": [
      "\u001b[1;36m  File \u001b[1;32m\"<ipython-input-49-3dd3aa76ecf2>\"\u001b[1;36m, line \u001b[1;32m2\u001b[0m\n\u001b[1;33m    qM(inP) = np.median(jitteredM(inP))\u001b[0m\n\u001b[1;37m                                       ^\u001b[0m\n\u001b[1;31mSyntaxError\u001b[0m\u001b[1;31m:\u001b[0m can't assign to function call\n"
     ],
     "output_type": "error"
    }
   ],
   "source": [
    "inP=binassignments==1\n",
    "qM[inP] = np.median(jitteredM[inP])"
   ]
  },
  {
   "cell_type": "code",
   "execution_count": 43,
   "metadata": {},
   "outputs": [
    {
     "data": {
      "text/plain": [
       "(10, 5)"
      ]
     },
     "execution_count": 43,
     "metadata": {},
     "output_type": "execute_result"
    }
   ],
   "source": [
    "qM = np.zeros(M.shape)\n",
    "qM.shape"
   ]
  },
  {
   "cell_type": "code",
   "execution_count": 34,
   "metadata": {},
   "outputs": [
    {
     "data": {
      "text/plain": [
       "2"
      ]
     },
     "execution_count": 34,
     "metadata": {},
     "output_type": "execute_result"
    }
   ],
   "source": [
    "len(np.histogram(M))"
   ]
  },
  {
   "cell_type": "code",
   "execution_count": null,
   "metadata": {},
   "outputs": [],
   "source": []
  },
  {
   "cell_type": "code",
   "execution_count": null,
   "metadata": {},
   "outputs": [],
   "source": []
  }
 ],
 "metadata": {
  "kernelspec": {
   "display_name": "Python 3",
   "language": "python",
   "name": "python3"
  },
  "language_info": {
   "codemirror_mode": {
    "name": "ipython",
    "version": 3
   },
   "file_extension": ".py",
   "mimetype": "text/x-python",
   "name": "python",
   "nbconvert_exporter": "python",
   "pygments_lexer": "ipython3",
   "version": "3.7.1"
  }
 },
 "nbformat": 4,
 "nbformat_minor": 2
}
